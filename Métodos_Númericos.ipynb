{
  "cells": [
    {
      "cell_type": "markdown",
      "metadata": {
        "id": "view-in-github",
        "colab_type": "text"
      },
      "source": [
        "<a href=\"https://colab.research.google.com/github/Slrosales/Soluciones_Computacionales/blob/main/M%C3%A9todos_N%C3%BAmericos.ipynb\" target=\"_parent\"><img src=\"https://colab.research.google.com/assets/colab-badge.svg\" alt=\"Open In Colab\"/></a>"
      ]
    },
    {
      "cell_type": "markdown",
      "source": [
        "# Importaciones"
      ],
      "metadata": {
        "id": "tDoq0v0Q3f6S"
      }
    },
    {
      "cell_type": "code",
      "source": [
        "import matplotlib.pyplot as plt\n",
        "import numpy as np\n",
        "from math import e\n",
        "from math import pi\n",
        "import math as mt\n",
        "import sympy as sp\n",
        "from scipy.optimize import root_scalar"
      ],
      "metadata": {
        "id": "-TPtviZ39V3R"
      },
      "execution_count": 15,
      "outputs": []
    },
    {
      "cell_type": "markdown",
      "metadata": {
        "id": "Fw8pnHiKffaC"
      },
      "source": [
        "# Métodos Númericos"
      ]
    },
    {
      "cell_type": "markdown",
      "metadata": {
        "pycharm": {
          "name": "#%% md\n"
        },
        "id": "d4Jy-SmGffaF"
      },
      "source": [
        "## Método gráfico\n"
      ]
    },
    {
      "cell_type": "code",
      "execution_count": 16,
      "metadata": {
        "id": "efeMwkxtffaG"
      },
      "outputs": [],
      "source": [
        "def graficar(f, x_i, x_f, lista_puntos=None, num=50):\n",
        "    \"\"\"\n",
        "    Gráfica de funciones algebraicas\n",
        "    :param f: función, previamente definida\n",
        "    :param x_i: límite inferior del intervalo\n",
        "    :param x_f: límite superior del intervalo\n",
        "    :param lista_puntos: lista de puntos a marcar en el gráfico (opcional)\n",
        "    :param num: división del intervalo\n",
        "    :return: gráfica de la función\n",
        "    \"\"\"\n",
        "    plt.style.use('seaborn')\n",
        "    x = np.linspace(x_i, x_f, num)\n",
        "    fig, ax = plt.subplots(figsize=(15, 5))\n",
        "    ax.plot(x, f(x))\n",
        "\n",
        "    if lista_puntos is not None:\n",
        "        for punto in lista_puntos:\n",
        "            plt.plot(punto[0], punto[1], 'ro')\n",
        "\n",
        "    xmin, xmax = ax.get_xlim()\n",
        "    ymin, ymax = ax.get_ylim()\n",
        "    ax.annotate(\"\", xy=(xmax, 0), xytext=(xmin, 0), arrowprops=dict(color='gray', width=1.5, headwidth=8, headlength=10))\n",
        "    ax.annotate(\"\", xy=(0, ymax), xytext=(0, ymin), arrowprops=dict(color='gray', width=1.5, headwidth=8, headlength=10))\n",
        "\n",
        "    plt.show()\n"
      ]
    },
    {
      "cell_type": "markdown",
      "metadata": {
        "id": "7QYGW8yGffaK"
      },
      "source": [
        "## Método de Bisección\n"
      ]
    },
    {
      "cell_type": "code",
      "execution_count": 17,
      "metadata": {
        "id": "k2L-cuD3ffaL"
      },
      "outputs": [],
      "source": [
        "def metodo_biseccion(f, a, b, tol=1e-6, n=50):\n",
        "    \"\"\"\n",
        "    Método de bisección\n",
        "    :param f: Funcion a la que se le intenta encontrar una solucion para la ecuacion f(x)=0, previamente definida\n",
        "    :param a: límite inferior\n",
        "    :param b: límite superior\n",
        "    :param tol: toleracia, criterio de parada\n",
        "    :param n: número máximo de iteraciones, criterio de parada\n",
        "    :return: lista de puntos hallados por iteración\n",
        "    \"\"\"\n",
        "    puntos = []\n",
        "\n",
        "    if f(a) * f(b) >= 0:  # el intervalo escogido no sirve\n",
        "        print(\"Error: f(a) y f(b) deben tener signos opuestos.\")\n",
        "        return None\n",
        "\n",
        "    k = 1\n",
        "    while k <= n:\n",
        "        c = (a + b) / 2  # punto medio\n",
        "        fc = f(c)\n",
        "\n",
        "        # Valor teórico (aproximado) y experimental\n",
        "        valor_teorico = c\n",
        "        valor_experimental = (a + b) / 2\n",
        "\n",
        "        # Cálculo del error absoluto y relativo\n",
        "        error_absoluto = abs(valor_teorico - valor_experimental)\n",
        "        error_relativo = error_absoluto / abs(valor_teorico)\n",
        "\n",
        "        # Valor de cada variable por iteración\n",
        "        print('Iteración {:<2}: a_{:<2}={:.7f}, b_{:<2}={:.7f}, c_{:<2}={:.7f}, '\n",
        "              'Valor teórico={:.7f}, Valor experimental={:.7f}, Error absoluto={:.7f}, Error relativo={:.7f}'.format(\n",
        "              k, k-1, a, k-1, b, k, c, valor_teorico, valor_experimental, error_absoluto, error_relativo))\n",
        "\n",
        "        puntos.append((c, fc))\n",
        "\n",
        "        if error_absoluto <= tol:\n",
        "            print(\"Error absoluto=\", error_absoluto)\n",
        "            break\n",
        "\n",
        "        if fc < 0:\n",
        "            a = c\n",
        "        else:\n",
        "            b = c\n",
        "\n",
        "        k += 1\n",
        "\n",
        "    print(\"Resultado final: raíz = {:.7f}, valor teórico = {:.7f}, valor experimental = {:.7f}, \"\n",
        "          \"error absoluto = {:.7f}, error relativo = {:.7f}\".format(c, valor_teorico, valor_experimental, error_absoluto, error_relativo))\n",
        "\n",
        "    return puntos\n"
      ]
    },
    {
      "cell_type": "markdown",
      "metadata": {
        "pycharm": {
          "name": "#%%\n"
        },
        "id": "d0SEYd0CffaZ"
      },
      "source": [
        "## Método Regula Falsi"
      ]
    },
    {
      "cell_type": "code",
      "execution_count": 18,
      "metadata": {
        "id": "f5Za40Eeffaa"
      },
      "outputs": [],
      "source": [
        "def metodo_regulafalsi(f, a, b, tol=1e-6, n=50):\n",
        "    \"\"\"\n",
        "    Método de regula falsi\n",
        "    :param f: Funcion a la que se le intenta encontrar una solucion para la ecuacion f(x)=0, previamente definida\n",
        "    :param a: límite inferior\n",
        "    :param b: límite superior\n",
        "    :param tol: toleracia, criterio de parada\n",
        "    :param n: número máximo de iteraciones, criterio de parada\n",
        "    :return: lista de puntos hallados por iteración\n",
        "    \"\"\"\n",
        "    if f(a)*f(b) > 0:  # el intervalo escogido no sirve\n",
        "        print('El intervalo no funciona, f(a)={:.2f} y f(b)={:.2f}'.format(f(a),f(b)))\n",
        "        return None\n",
        "\n",
        "    fa = f(a)\n",
        "    fb = f(b)\n",
        "    fc = float('inf')\n",
        "    k = 0\n",
        "\n",
        "    puntos = []\n",
        "\n",
        "    while k <= n and abs(fc) > tol:\n",
        "        c = (f(b)*a-f(a)*b)/(f(b)-f(a))\n",
        "\n",
        "        fc = f(c)\n",
        "        puntos.append((c, fc))\n",
        "\n",
        "        valor_teorico = c\n",
        "        valor_experimental = (f(b)*a-f(a)*b)/(f(b)-f(a))\n",
        "\n",
        "        error_absoluto = abs(valor_teorico - valor_experimental)\n",
        "        error_relativo = error_absoluto / abs(valor_teorico)\n",
        "\n",
        "\n",
        "        print('Iteración {:<2}: a_{:<2}={:.7f}, b_{:<2}={:.7f}, c_{:<2}={:.7f}, '\n",
        "              'Valor teórico={:.7f}, Valor experimental={:.7f}, '\n",
        "              'Error absoluto={:.7f}, Error relativo={:.7f}'.format(\n",
        "              k, k-1, a, k-1, b, k, c, valor_teorico, valor_experimental, error_absoluto, error_relativo))\n",
        "\n",
        "        if fc < 0:\n",
        "            a = c\n",
        "            z0 = b\n",
        "        else:\n",
        "            b = c\n",
        "            z0 = a\n",
        "        k += 1\n",
        "\n",
        "    print(\"zn = \", c, \"k = \", k)\n",
        "    return puntos\n"
      ]
    },
    {
      "cell_type": "markdown",
      "metadata": {
        "id": "iJZE0wcIffad"
      },
      "source": [
        "## Método Newton - Raphson"
      ]
    },
    {
      "cell_type": "code",
      "execution_count": 19,
      "metadata": {
        "id": "s_46nF2cffad"
      },
      "outputs": [],
      "source": [
        "def metodo_newton(f, z0, tol=1e-6, n=50):\n",
        "    \"\"\"\n",
        "    Método Newton Raphson\n",
        "    :param f: Funcion a la que se le intenta encontrar una solucion para la ecuacion f(x)=0, previamente definida\n",
        "    :param z0: semilla (punto inicial)\n",
        "    :param tol: tolerancia, criterio de parada\n",
        "    :param n: número máximo de iteraciones, criterio de parada\n",
        "    :return: lista de puntos hallados por iteración\n",
        "    \"\"\"\n",
        "\n",
        "    puntos = []\n",
        "\n",
        "    z1 = z0 - float((f.subs('x', z0)/f.diff().subs('x', z0)).evalf())\n",
        "    k = 0\n",
        "    while abs(z0 - z1) > tol and k <= n:\n",
        "        e_abs = abs(z1 - z0)\n",
        "        e_rel = e_abs / abs(z1) if z1 != 0 else e_abs\n",
        "\n",
        "        valor_teorico = z1\n",
        "        valor_experimental = z0\n",
        "\n",
        "\n",
        "        print('Iteración {:<2}: p_{:<2}={:.7f}, '\n",
        "              'Valor teórico={:.7f}, Valor experimental={:.7f}, '\n",
        "              'Error absoluto={:.7f}, Error relativo={:.7f}'.format(\n",
        "              k+1, k, z1, valor_teorico, valor_experimental, e_abs, e_rel))\n",
        "\n",
        "        puntos.append((z1, f.subs('x', z1)))\n",
        "\n",
        "        z0 = z1\n",
        "        z1 = z0 - float((f.subs('x', z0) / f.diff().subs('x', z0)).evalf())\n",
        "        k += 1\n",
        "\n",
        "    print(\"Resultado final: zn = {:.7f}, k = {}\".format(z1, k))\n",
        "    return puntos\n"
      ]
    },
    {
      "cell_type": "markdown",
      "metadata": {
        "id": "Uhm0QPxMffan"
      },
      "source": [
        "## Método de la secante"
      ]
    },
    {
      "cell_type": "code",
      "execution_count": 22,
      "metadata": {
        "id": "X3lRxIMFffan"
      },
      "outputs": [],
      "source": [
        "def metodo_secante(f, z0, z1, tol=1e-6, n=50):\n",
        "    \"\"\"\n",
        "    Método de la secante\n",
        "    :param f: Funcion a la que se le intenta encontrar una solucion para la ecuacion f(x)=0, previamente definida\n",
        "    :param z0: semilla (punto inicial)\n",
        "    :param z1: semilla (punto inicial)\n",
        "    :param tol: tolerancia, criterio de parada\n",
        "    :param n: número máximo de iteraciones, criterio de parada\n",
        "    :return: lista de puntos hallados por iteración\n",
        "    \"\"\"\n",
        "\n",
        "    puntos = []\n",
        "\n",
        "    y0 = float(f.subs('x', z0))\n",
        "    y1 = float(f.subs('x', z1))\n",
        "\n",
        "    z2 = z1 - y1 * (z1 - z0) / (y1 - y0)\n",
        "\n",
        "    k = 0\n",
        "\n",
        "    while k <= n and abs(z2 - z1) > tol:\n",
        "        z0 = z1\n",
        "        z1 = z2\n",
        "        y0 = y1\n",
        "        y1 = float(f.subs('x', z1))\n",
        "        z2 = z1 - y1 * (z1 - z0) / (y1 - y0)\n",
        "        k += 1\n",
        "\n",
        "\n",
        "        valor_teorico = z2\n",
        "        valor_experimental = z1\n",
        "\n",
        "        error_absoluto = abs(valor_teorico - valor_experimental)\n",
        "        error_relativo = error_absoluto / abs(valor_teorico)\n",
        "\n",
        "\n",
        "        print('Iteración {:<2}: p_{:<2}={:.7f}, '\n",
        "              'Valor teórico={:.7f}, Valor experimental={:.7f}, '\n",
        "              'Error absoluto={:.7f}, Error relativo={:.7f}'.format(\n",
        "              k, k - 1, z2, valor_teorico, valor_experimental, error_absoluto, error_relativo))\n",
        "\n",
        "        puntos.append((z2, f.subs('x', z2)))\n",
        "\n",
        "    print(\"Resultado final: zn = {:.7f}, k = {}\".format(z2, k))\n",
        "    return puntos\n"
      ]
    },
    {
      "cell_type": "markdown",
      "metadata": {
        "id": "WMmJ8lVAffaq"
      },
      "source": [
        "## Método del punto fijo"
      ]
    },
    {
      "cell_type": "code",
      "execution_count": 23,
      "metadata": {
        "id": "kG4_9X1kffaq"
      },
      "outputs": [],
      "source": [
        "def metodo_puntofijo(f, z0, tol=10**-4, n=10):\n",
        "    \"\"\"\n",
        "    Método de punto fijo\n",
        "    :param f: Funcion a la que se le intenta encontrar una solucion para la ecuacion f(x)=0, previamente definida\n",
        "    :param z0: semilla (punto inicial)\n",
        "    :param tol: tolerancia, criterio de parada\n",
        "    :param n: número máximo de iteraciones, criterio de parada\n",
        "    :return: lista de puntos hallados por iteración\n",
        "    \"\"\"\n",
        "\n",
        "    puntos = []\n",
        "\n",
        "    k = 0\n",
        "    z1 = f(z0)\n",
        "    while k <= n:\n",
        "        try:\n",
        "            z1 = f(z0)\n",
        "        except OverflowError:\n",
        "            print('No se puede')\n",
        "            return None\n",
        "        k += 1\n",
        "\n",
        "\n",
        "        valor_teorico = z1\n",
        "        valor_experimental = z0\n",
        "\n",
        "        error_absoluto = abs(valor_teorico - valor_experimental)\n",
        "        error_relativo = error_absoluto / abs(valor_teorico)\n",
        "\n",
        "\n",
        "        print('Iteración {:<2}: p_{:<2}={:.7f}, '\n",
        "              'Valor teórico={:.7f}, Valor experimental={:.7f}, '\n",
        "              'Error absoluto={:.7f}, Error relativo={:.7f}'.format(\n",
        "              k, k - 1, z1, valor_teorico, valor_experimental, error_absoluto, error_relativo))\n",
        "\n",
        "        puntos.append((z1, f(z1)))\n",
        "\n",
        "        if abs(z1 - z0) < tol:  # criterio de parada\n",
        "            print('Solución encontrada x= {:.7f}, iteraciones: {}'. format(z1, k))\n",
        "            return z1\n",
        "\n",
        "        z0 = z1\n",
        "\n",
        "    print(\"zn = \", z1, \"k = \", k)\n",
        "    return puntos\n"
      ]
    },
    {
      "cell_type": "markdown",
      "metadata": {
        "pycharm": {
          "name": "#%% md\n"
        },
        "id": "CgO_CpqqffaM"
      },
      "source": [
        "## Ejemplo\n"
      ]
    },
    {
      "cell_type": "code",
      "source": [
        "x = sp.symbols('x')"
      ],
      "metadata": {
        "id": "fpKeBtzJRtwv"
      },
      "execution_count": 24,
      "outputs": []
    },
    {
      "cell_type": "code",
      "source": [
        "f = lambda x: mt.tan(mt.pi * x) - 6\n",
        "metodo_biseccion(f, 0.2, 0.5)\n",
        "metodo_regulafalsi(f,0.2,0.5)\n",
        "metodo_puntofijo(f, 0.42)\n",
        "\n",
        "f = sp.tan(mt.pi * x) - 6\n",
        "metodo_newton(f, 0.47)\n",
        "metodo_secante(f, 0.2, 1)\n"
      ],
      "metadata": {
        "id": "yrBUlkXhclTK"
      },
      "execution_count": null,
      "outputs": []
    },
    {
      "cell_type": "code",
      "execution_count": null,
      "metadata": {
        "pycharm": {
          "name": "#%%\n"
        },
        "id": "nZr3OJaRffaM"
      },
      "outputs": [],
      "source": [
        "f = lambda x: x + np.log(x)\n",
        "graficar(f, 0, 1)\n",
        "metodo_biseccion(f, 0.4, 0.8)\n",
        "metodo_regulafalsi(f,0.2,1.4)\n",
        "metodo_puntofijo(f, 1)\n",
        "\n",
        "f = x + sp.log(x)\n",
        "metodo_newton(f, 0.2)\n",
        "metodo_secante(f, 0.2, 1)"
      ]
    },
    {
      "cell_type": "code",
      "source": [
        "f = lambda x: -25 + 82*x - 90*x**2 + 44*x**3 - 8*x**4 + 0.7*x**5\n",
        "graficar(f, 0, 1)\n",
        "metodo_biseccion(f, 0.5, 1)\n",
        "metodo_regulafalsi(f, 0.5, 1)\n",
        "# metodo_puntofijo(f, 0.4)\n",
        "\n",
        "f = -25 + 82*x - 90*x**2 + 44*x**3 - 8*x**4 + 0.7*x**5\n",
        "metodo_newton(f, 0.5)\n",
        "metodo_secante(f, 0.5, 1)"
      ],
      "metadata": {
        "id": "8BNZFncWDAq3"
      },
      "execution_count": null,
      "outputs": []
    },
    {
      "cell_type": "code",
      "source": [
        "f = lambda x: 5*x**3 - 5*x**2 + 6*x - 2\n",
        "graficar(f, 0, 1)\n",
        "metodo_biseccion(f, -0.2, 0.6, 10**-4, 50)\n",
        "metodo_regulafalsi(f, -0.2, 0.6, 10**-4, 50)\n",
        "# metodo_puntofijo(f, -0.2)\n",
        "\n",
        "f = 5*x**3 - 5*x**2 + 6*x - 2\n",
        "metodo_newton(f, -0.2)\n",
        "metodo_secante(f, -0.2, 1)"
      ],
      "metadata": {
        "id": "RCB8Kz73FkJ7"
      },
      "execution_count": null,
      "outputs": []
    },
    {
      "cell_type": "code",
      "source": [
        "f = lambda x: x**3 - 3*x**2 + (16/5)\n",
        "p = metodo_biseccion(f, 1, 2)\n",
        "p2 = metodo_regulafalsi(f, 0, 2)\n",
        "# metodo_puntofijo(f, 1.36)\n",
        "\n",
        "f = x**3 - 3*x**2 + (16/5)\n",
        "metodo_newton(f, 1)\n",
        "metodo_secante(f, 0, 1)"
      ],
      "metadata": {
        "id": "0PJ91i6kF1M3"
      },
      "execution_count": null,
      "outputs": []
    },
    {
      "cell_type": "code",
      "source": [
        "f = lambda x: x**x - 100\n",
        "p = metodo_biseccion(f, 1, 4)\n",
        "p2 = metodo_regulafalsi(f, 1, 4)\n",
        "metodo_puntofijo(f, 1)\n",
        "\n",
        "f = x**x - 100\n",
        "metodo_newton(f, 3.8)\n",
        "metodo_secante(f, 3, 3.2)"
      ],
      "metadata": {
        "id": "ginNUFocScs1"
      },
      "execution_count": null,
      "outputs": []
    },
    {
      "cell_type": "code",
      "source": [
        "f = lambda x: 3**(-x)\n",
        "metodo_biseccion(f, 0, 1)\n",
        "metodo_regulafalsi(f, 0, 1)\n",
        "metodo_puntofijo(f, 0)\n",
        "graficar(f, -1, 1)\n",
        "\n",
        "f = 3**(-x)\n",
        "metodo_newton(f, 0)\n",
        "metodo_secante(f, 0, 1)"
      ],
      "metadata": {
        "id": "RYZs3GprmCjW"
      },
      "execution_count": null,
      "outputs": []
    }
  ],
  "metadata": {
    "kernelspec": {
      "display_name": "Python 3",
      "language": "python",
      "name": "python3"
    },
    "language_info": {
      "codemirror_mode": {
        "name": "ipython",
        "version": 3
      },
      "file_extension": ".py",
      "mimetype": "text/x-python",
      "name": "python",
      "nbconvert_exporter": "python",
      "pygments_lexer": "ipython3",
      "version": "3.8.5"
    },
    "colab": {
      "provenance": [],
      "include_colab_link": true
    }
  },
  "nbformat": 4,
  "nbformat_minor": 0
}