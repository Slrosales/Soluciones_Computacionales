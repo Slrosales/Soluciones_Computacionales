{
  "nbformat": 4,
  "nbformat_minor": 0,
  "metadata": {
    "colab": {
      "provenance": [],
      "authorship_tag": "ABX9TyPtGDUyl002S+Il1YEeZDSh",
      "include_colab_link": true
    },
    "kernelspec": {
      "name": "python3",
      "display_name": "Python 3"
    },
    "language_info": {
      "name": "python"
    }
  },
  "cells": [
    {
      "cell_type": "markdown",
      "metadata": {
        "id": "view-in-github",
        "colab_type": "text"
      },
      "source": [
        "<a href=\"https://colab.research.google.com/github/Slrosales/Soluciones_Computacionales/blob/main/Interpolacion.ipynb\" target=\"_parent\"><img src=\"https://colab.research.google.com/assets/colab-badge.svg\" alt=\"Open In Colab\"/></a>"
      ]
    },
    {
      "cell_type": "code",
      "execution_count": 346,
      "metadata": {
        "id": "3oTsiQ3L3Rht"
      },
      "outputs": [],
      "source": [
        "import numpy as np\n",
        "import matplotlib.pyplot as plt\n",
        "import seaborn as sns\n",
        "sns.set_style('darkgrid')\n",
        "# np.random.seed(10)"
      ]
    },
    {
      "cell_type": "code",
      "source": [
        "f = lambda x: np.sin(x)/(x**2+1)"
      ],
      "metadata": {
        "id": "-a7-_40R6CAT"
      },
      "execution_count": 347,
      "outputs": []
    },
    {
      "cell_type": "code",
      "source": [
        "n = 10  # Número de elementos en el conjunto de datos\n",
        "\n",
        "\"\"\"\"\n",
        "Genera un conjunto de datos X de longitud n\n",
        "Los valores se obtienen al dividir el intervalo de 0 a 50 en n partes iguales\n",
        "usando linspace y luego añadiendo valores aleatorios (n)*50\n",
        "\"\"\"\n",
        "X = np.linspace(0, 50, n) + 50 * np.random.random(n)\n",
        "\n",
        "X.sort()\n",
        "\n",
        "X\n"
      ],
      "metadata": {
        "id": "vQbHtEtq361L",
        "colab": {
          "base_uri": "https://localhost:8080/"
        },
        "outputId": "3529d931-2a3b-4219-949d-24aefacfdc9b"
      },
      "execution_count": 348,
      "outputs": [
        {
          "output_type": "execute_result",
          "data": {
            "text/plain": [
              "array([14.32366415, 20.19545437, 23.75661237, 39.2076144 , 52.53020932,\n",
              "       60.35808472, 60.92758013, 65.60762395, 75.98984929, 82.18736963])"
            ]
          },
          "metadata": {},
          "execution_count": 348
        }
      ]
    },
    {
      "cell_type": "code",
      "source": [
        "# Se calcula el valor de la función f para cada elemento en el conjunto de datos X\n",
        "Y = f(X)\n",
        "Y = f(X)\n",
        "Y"
      ],
      "metadata": {
        "id": "sningymy4D1M",
        "colab": {
          "base_uri": "https://localhost:8080/"
        },
        "outputId": "e981f41f-e02b-4b74-fc1a-034d29edb537"
      },
      "execution_count": 349,
      "outputs": [
        {
          "output_type": "execute_result",
          "data": {
            "text/plain": [
              "array([ 4.76632077e-03,  2.38425261e-03, -1.73532473e-03,  6.48833927e-04,\n",
              "        2.78485638e-04, -1.69940296e-04, -2.54475301e-04,  8.30863814e-05,\n",
              "        9.65657007e-05,  7.17384386e-05])"
            ]
          },
          "metadata": {},
          "execution_count": 349
        }
      ]
    },
    {
      "cell_type": "code",
      "source": [
        "# Se crea un gráfico de dispersión que representa los puntos (X, Y)\n",
        "# 'o' indica que se deben mostrar los puntos como círculos en el gráfico\n",
        "plt.plot(X, Y, 'o')\n"
      ],
      "metadata": {
        "id": "h4IeAkxn4emD",
        "colab": {
          "base_uri": "https://localhost:8080/",
          "height": 448
        },
        "outputId": "fc0f15bd-ed65-44e3-d3a0-a106d024784f"
      },
      "execution_count": 350,
      "outputs": [
        {
          "output_type": "execute_result",
          "data": {
            "text/plain": [
              "[<matplotlib.lines.Line2D at 0x7b077e817b50>]"
            ]
          },
          "metadata": {},
          "execution_count": 350
        },
        {
          "output_type": "display_data",
          "data": {
            "text/plain": [
              "<Figure size 640x480 with 1 Axes>"
            ],
            "image/png": "[encoded data removed]"
          },
          "metadata": {}
        }
      ]
    },
    {
      "cell_type": "code",
      "source": [
        "\"\"\"\n",
        "Genera una matriz de Vandermonde basada en el conjunto de datos X\n",
        "La opción 'increasing = True' indica que las potencias de X\n",
        "deben estar en orden creciente en las columnas de la matriz\n",
        "\n",
        "La matriz A contendrá las potencias crecientes de los valores en X como columnas\n",
        "\"\"\"\n",
        "A = np.vander(X, increasing=True)\n",
        "A"
      ],
      "metadata": {
        "id": "27LBKnrg4xbl",
        "colab": {
          "base_uri": "https://localhost:8080/"
        },
        "outputId": "810f5c64-e6a9-469b-c645-9832cfb721b5"
      },
      "execution_count": 351,
      "outputs": [
        {
          "output_type": "execute_result",
          "data": {
            "text/plain": [
              "array([[1.00000000e+00, 1.43236641e+01, 2.05167355e+02, 2.93874828e+03,\n",
              "        4.20936434e+04, 6.02935210e+05, 8.63624146e+06, 1.23702622e+08,\n",
              "        1.77187481e+09, 2.53797397e+10],\n",
              "       [1.00000000e+00, 2.01954544e+01, 4.07856377e+02, 8.23684486e+03,\n",
              "        1.66346824e+05, 3.35944970e+06, 6.78456132e+07, 1.37017299e+09,\n",
              "        2.76712660e+10, 5.58833790e+11],\n",
              "       [1.00000000e+00, 2.37566124e+01, 5.64376631e+02, 1.34076769e+04,\n",
              "        3.18520982e+05, 7.56697950e+06, 1.79765799e+08, 4.27062640e+09,\n",
              "        1.01455616e+11, 2.41024174e+12],\n",
              "       [1.00000000e+00, 3.92076144e+01, 1.53723703e+03, 6.02713966e+04,\n",
              "        2.36309768e+06, 9.26514226e+07, 3.63264125e+09, 1.42427197e+11,\n",
              "        5.58423064e+12, 2.18944362e+14],\n",
              "       [1.00000000e+00, 5.25302093e+01, 2.75942289e+03, 1.44953062e+05,\n",
              "        7.61441469e+06, 3.99986798e+08, 2.10113902e+10, 1.10373273e+12,\n",
              "        5.79793111e+13, 3.04566535e+15],\n",
              "       [1.00000000e+00, 6.03580847e+01, 3.64309839e+03, 2.19890441e+05,\n",
              "        1.32721659e+07, 8.01082513e+08, 4.83518062e+10, 2.91842241e+12,\n",
              "        1.76150387e+14, 1.06321000e+16],\n",
              "       [1.00000000e+00, 6.09275801e+01, 3.71217002e+03, 2.26173536e+05,\n",
              "        1.37802063e+07, 8.39594621e+08, 5.11544686e+10, 3.11671798e+12,\n",
              "        1.89894085e+14, 1.15697871e+16],\n",
              "       [1.00000000e+00, 6.56076240e+01, 4.30436032e+03, 2.82398853e+05,\n",
              "        1.85275178e+07, 1.21554642e+09, 7.97491123e+10, 5.23214977e+12,\n",
              "        3.43268915e+14, 2.25210579e+16],\n",
              "       [1.00000000e+00, 7.59898493e+01, 5.77445720e+03, 4.38800132e+05,\n",
              "        3.33443559e+07, 2.53383258e+09, 1.92545556e+11, 1.46315078e+13,\n",
              "        1.11184607e+15, 8.44890154e+16],\n",
              "       [1.00000000e+00, 8.21873696e+01, 6.75476373e+03, 5.55156263e+05,\n",
              "        4.56268330e+07, 3.74994939e+09, 3.08198477e+11, 2.53300221e+13,\n",
              "        2.08180789e+15, 1.71098315e+17]])"
            ]
          },
          "metadata": {},
          "execution_count": 351
        }
      ]
    },
    {
      "cell_type": "code",
      "source": [
        "\"\"\"\n",
        "Se resuelve el sistema de ecuaciones lineales A * theta = Y\n",
        "\n",
        "Donde A es la matriz de Vandermonde generada anteriormente\n",
        "y Y son los valores de la función f evaluados en X\n",
        "El vector theta contiene los coeficientes que se ajustan mejor a los datos\n",
        "\"\"\"\n",
        "theta = np.linalg.solve(A, Y)\n",
        "theta"
      ],
      "metadata": {
        "id": "9pDZDVY85CkL",
        "colab": {
          "base_uri": "https://localhost:8080/"
        },
        "outputId": "7a86d0c3-ef40-478b-ed74-34c7962eaf9e"
      },
      "execution_count": 352,
      "outputs": [
        {
          "output_type": "execute_result",
          "data": {
            "text/plain": [
              "array([-3.89527001e+00,  1.00017076e+00, -1.07836366e-01,  6.44270618e-03,\n",
              "       -2.36214061e-04,  5.53661202e-06, -8.33055355e-08,  7.78735135e-10,\n",
              "       -4.11703472e-12,  9.40520876e-15])"
            ]
          },
          "metadata": {},
          "execution_count": 352
        }
      ]
    },
    {
      "cell_type": "code",
      "source": [
        "\"\"\"\n",
        "Define una función lambda P que evalúa un polinomio en x utilizando\n",
        "los coeficientes en el vector theta\n",
        "\n",
        "El polinomio se construye sumando términos coef*x^i\n",
        "para cada i en el rango de coeficientes en theta\n",
        "\"\"\"\n",
        "P = lambda x: sum([coef * x**i for i, coef in enumerate(theta)])\n"
      ],
      "metadata": {
        "id": "yv6TbEoU5JZj",
        "colab": {
          "base_uri": "https://localhost:8080/"
        },
        "outputId": "12d5a84b-387e-4038-aab6-8f7c5bf2b134"
      },
      "execution_count": 353,
      "outputs": [
        {
          "output_type": "execute_result",
          "data": {
            "text/plain": [
              "-0.11889276277267868"
            ]
          },
          "metadata": {},
          "execution_count": 353
        }
      ]
    },
    {
      "cell_type": "code",
      "source": [
        "# El arreglo x1 contendrá 100 valores distribuidos uniformemente desde 0 hasta 100\n",
        "x1 = np.linspace(0, 100, 100)\n",
        "x1"
      ],
      "metadata": {
        "id": "RNhpenVZ5aBD",
        "colab": {
          "base_uri": "https://localhost:8080/"
        },
        "outputId": "d023d9c9-f1f8-4f39-850e-96417e5acb00"
      },
      "execution_count": 354,
      "outputs": [
        {
          "output_type": "execute_result",
          "data": {
            "text/plain": [
              "array([  0.        ,   1.01010101,   2.02020202,   3.03030303,\n",
              "         4.04040404,   5.05050505,   6.06060606,   7.07070707,\n",
              "         8.08080808,   9.09090909,  10.1010101 ,  11.11111111,\n",
              "        12.12121212,  13.13131313,  14.14141414,  15.15151515,\n",
              "        16.16161616,  17.17171717,  18.18181818,  19.19191919,\n",
              "        20.2020202 ,  21.21212121,  22.22222222,  23.23232323,\n",
              "        24.24242424,  25.25252525,  26.26262626,  27.27272727,\n",
              "        28.28282828,  29.29292929,  30.3030303 ,  31.31313131,\n",
              "        32.32323232,  33.33333333,  34.34343434,  35.35353535,\n",
              "        36.36363636,  37.37373737,  38.38383838,  39.39393939,\n",
              "        40.4040404 ,  41.41414141,  42.42424242,  43.43434343,\n",
              "        44.44444444,  45.45454545,  46.46464646,  47.47474747,\n",
              "        48.48484848,  49.49494949,  50.50505051,  51.51515152,\n",
              "        52.52525253,  53.53535354,  54.54545455,  55.55555556,\n",
              "        56.56565657,  57.57575758,  58.58585859,  59.5959596 ,\n",
              "        60.60606061,  61.61616162,  62.62626263,  63.63636364,\n",
              "        64.64646465,  65.65656566,  66.66666667,  67.67676768,\n",
              "        68.68686869,  69.6969697 ,  70.70707071,  71.71717172,\n",
              "        72.72727273,  73.73737374,  74.74747475,  75.75757576,\n",
              "        76.76767677,  77.77777778,  78.78787879,  79.7979798 ,\n",
              "        80.80808081,  81.81818182,  82.82828283,  83.83838384,\n",
              "        84.84848485,  85.85858586,  86.86868687,  87.87878788,\n",
              "        88.88888889,  89.8989899 ,  90.90909091,  91.91919192,\n",
              "        92.92929293,  93.93939394,  94.94949495,  95.95959596,\n",
              "        96.96969697,  97.97979798,  98.98989899, 100.        ])"
            ]
          },
          "metadata": {},
          "execution_count": 354
        }
      ]
    },
    {
      "cell_type": "code",
      "source": [
        "# El arreglo y1 contendrá los valores del polinomio P evaluado en cada valor de x en x1\n",
        "y1 = np.array([P(x) for x in x1])\n",
        "y1"
      ],
      "metadata": {
        "id": "9ww_jy7U5m6R",
        "colab": {
          "base_uri": "https://localhost:8080/"
        },
        "outputId": "e68b5f54-ac68-4462-a439-c979aa6e6324"
      },
      "execution_count": 362,
      "outputs": [
        {
          "output_type": "execute_result",
          "data": {
            "text/plain": [
              "array([-3.89527001e+00, -2.98862265e+00, -2.26546091e+00, -1.69397083e+00,\n",
              "       -1.24697405e+00, -9.01374983e-01, -6.37659879e-01, -4.39444197e-01,\n",
              "       -2.93064835e-01, -1.87213954e-01, -1.12611259e-01, -6.17117846e-02,\n",
              "       -2.84463522e-02, -7.99203807e-03,  3.42988184e-03,  8.73089861e-03,\n",
              "        1.01094049e-02,  9.18412050e-03,  7.10880500e-03,  4.67013052e-03,\n",
              "        2.37046622e-03,  4.97210690e-04, -8.19804473e-04, -1.56142581e-03,\n",
              "       -1.78149452e-03, -1.57716086e-03, -1.06608618e-03, -3.69516837e-04,\n",
              "        3.99696003e-04,  1.14496989e-03,  1.79051450e-03,  2.28318244e-03,\n",
              "        2.59224971e-03,  2.70765647e-03,  2.63717096e-03,  2.40287542e-03,\n",
              "        2.03731242e-03,  1.57957342e-03,  1.07155856e-03,  5.54587473e-04,\n",
              "        6.64956317e-05, -3.60691119e-04, -7.02448879e-04, -9.42794275e-04,\n",
              "       -1.07467909e-03, -1.09977744e-03, -1.02772504e-03, -8.74889224e-04,\n",
              "       -6.62764097e-04, -4.16096699e-04, -1.60858381e-04,  7.78203304e-05,\n",
              "        2.77632395e-04,  4.20878710e-04,  4.95945490e-04,  4.98376348e-04,\n",
              "        4.31455261e-04,  3.06234694e-04,  1.40965001e-04, -4.00931591e-05,\n",
              "       -2.08462368e-04, -3.33803847e-04, -3.86753820e-04, -3.42119403e-04,\n",
              "       -1.82268353e-04,  9.95010611e-05,  4.95875449e-04,  9.83047909e-04,\n",
              "        1.51922596e-03,  2.04456886e-03,  2.48306405e-03,  2.74692300e-03,\n",
              "        2.74415059e-03,  2.39002041e-03,  1.62326985e-03,  4.27914016e-04,\n",
              "       -1.13833310e-03, -2.90794894e-03, -4.55862674e-03, -5.55815565e-03,\n",
              "       -5.09777460e-03, -2.01251026e-03,  5.31310263e-03,  1.90556349e-02,\n",
              "        4.20815464e-02,  7.80960970e-02,  1.31814471e-01,  2.09157330e-01,\n",
              "        3.17473139e-01,  4.65789762e-01,  6.65097941e-01,  9.28669450e-01,\n",
              "        1.27241282e+00,  1.71526975e+00,  2.27965537e+00,  2.99194584e+00,\n",
              "        3.88301675e+00,  4.98883605e+00,  6.35111555e+00,  8.01802480e+00])"
            ]
          },
          "metadata": {},
          "execution_count": 362
        }
      ]
    },
    {
      "cell_type": "code",
      "source": [
        "plt.plot(x1, y1)\n",
        "plt.plot(X, Y, 'o')\n",
        "plt.axis([5, 90, -0.01, 0.01])"
      ],
      "metadata": {
        "id": "hpcA-xC55rqB",
        "colab": {
          "base_uri": "https://localhost:8080/",
          "height": 452
        },
        "outputId": "b28945ca-25be-4d1e-d7bb-67ae5ca3eed9"
      },
      "execution_count": 364,
      "outputs": [
        {
          "output_type": "execute_result",
          "data": {
            "text/plain": [
              "(5.0, 90.0, -0.01, 0.01)"
            ]
          },
          "metadata": {},
          "execution_count": 364
        },
        {
          "output_type": "display_data",
          "data": {
            "text/plain": [
              "<Figure size 640x480 with 1 Axes>"
            ],
            "image/png": "[encoded data removed]"
          },
          "metadata": {}
        }
      ]
    },
    {
      "cell_type": "code",
      "source": [
        "f(20)"
      ],
      "metadata": {
        "id": "0cluAW_m6N-6",
        "colab": {
          "base_uri": "https://localhost:8080/"
        },
        "outputId": "2d375c1a-ff90-4b04-bb8d-2bceb2dae388"
      },
      "execution_count": 357,
      "outputs": [
        {
          "output_type": "execute_result",
          "data": {
            "text/plain": [
              "0.002276671448198573"
            ]
          },
          "metadata": {},
          "execution_count": 357
        }
      ]
    },
    {
      "cell_type": "code",
      "source": [
        "P(20)"
      ],
      "metadata": {
        "id": "I0nNqkCO6Qcx",
        "colab": {
          "base_uri": "https://localhost:8080/"
        },
        "outputId": "52b2fa91-27ac-4f93-9b5e-a7ccab6e5b85"
      },
      "execution_count": 358,
      "outputs": [
        {
          "output_type": "execute_result",
          "data": {
            "text/plain": [
              "0.0028028833902391257"
            ]
          },
          "metadata": {},
          "execution_count": 358
        }
      ]
    },
    {
      "cell_type": "code",
      "source": [
        "# Evaluación de error absoluto\n",
        "z = 20\n",
        "abs(f(z)-P(z))"
      ],
      "metadata": {
        "id": "_T0bNaQf6Vxg",
        "colab": {
          "base_uri": "https://localhost:8080/"
        },
        "outputId": "068dc6eb-b080-41a3-ff0c-ea0ffeb7941b"
      },
      "execution_count": 359,
      "outputs": [
        {
          "output_type": "execute_result",
          "data": {
            "text/plain": [
              "0.0005262119420405527"
            ]
          },
          "metadata": {},
          "execution_count": 359
        }
      ]
    }
  ]
}