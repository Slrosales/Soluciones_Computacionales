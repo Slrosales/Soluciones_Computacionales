{
  "nbformat": 4,
  "nbformat_minor": 0,
  "metadata": {
    "colab": {
      "provenance": [],
      "include_colab_link": true
    },
    "kernelspec": {
      "name": "python3",
      "display_name": "Python 3"
    },
    "language_info": {
      "name": "python"
    }
  },
  "cells": [
    {
      "cell_type": "markdown",
      "metadata": {
        "id": "view-in-github",
        "colab_type": "text"
      },
      "source": [
        "<a href=\"https://colab.research.google.com/github/Slrosales/Soluciones_Computacionales/blob/main/Taller1A.ipynb\" target=\"_parent\"><img src=\"https://colab.research.google.com/assets/colab-badge.svg\" alt=\"Open In Colab\"/></a>"
      ]
    },
    {
      "cell_type": "markdown",
      "source": [
        "# Importaciones"
      ],
      "metadata": {
        "id": "AlfLPQUp1MaM"
      }
    },
    {
      "cell_type": "code",
      "source": [
        "import warnings\n",
        "import numpy as np\n",
        "import numpy.linalg as la\n",
        "import math as mt\n",
        "import matplotlib.pyplot as plt\n",
        "import sympy.plotting as pls\n",
        "import seaborn as sns\n",
        "import sympy as sp\n",
        "from IPython.display import display, Math\n",
        "from sympy.parsing.sympy_parser import parse_expr\n",
        "\n",
        "warnings.filterwarnings('ignore')\n",
        "sns.set_style('darkgrid')"
      ],
      "metadata": {
        "id": "_ceF_qwnPpeR"
      },
      "execution_count": 55,
      "outputs": []
    },
    {
      "cell_type": "markdown",
      "source": [
        "# Punto 1"
      ],
      "metadata": {
        "id": "Hh-n4OB-1JYD"
      }
    },
    {
      "cell_type": "markdown",
      "source": [
        "Considere la función $f(x) = cos(3x)+sen(3x)$, en $a=0$.\n",
        "\n",
        "Estimar el valor de f(1) y agregar terminos a la serie hasta que el error sea menir que $tol=10^{-5}$\n",
        "\n",
        "Mostrar el valor teorico, experimental y el error absoluto y relativo de cada término agregado"
      ],
      "metadata": {
        "id": "L6t1OcrhN5pT"
      }
    },
    {
      "cell_type": "code",
      "execution_count": 56,
      "metadata": {
        "colab": {
          "base_uri": "https://localhost:8080/",
          "height": 1000
        },
        "id": "FBL5MnnXNrWn",
        "outputId": "9df63b6b-3c10-4ba7-e754-31c9c8ba7f33"
      },
      "outputs": [
        {
          "output_type": "stream",
          "name": "stdout",
          "text": [
            "Iteración 0:\n",
            "  Valor teórico: -0.848872488540578\n",
            "  Valor experimental: 1.00000000000000\n",
            "  Error absoluto: 1.84887248854058\n",
            "  Error relativo: 2.17803323054944\n",
            "\n"
          ]
        },
        {
          "output_type": "display_data",
          "data": {
            "text/plain": [
              "<IPython.core.display.Math object>"
            ],
            "text/latex": "$\\displaystyle 3 x + 1$"
          },
          "metadata": {}
        },
        {
          "output_type": "stream",
          "name": "stdout",
          "text": [
            "Iteración 2:\n",
            "  Valor teórico: -0.848872488540578\n",
            "  Valor experimental: 4.00000000000000\n",
            "  Error absoluto: 4.84887248854058\n",
            "  Error relativo: 5.71213292219776\n",
            "\n"
          ]
        },
        {
          "output_type": "display_data",
          "data": {
            "text/plain": [
              "<IPython.core.display.Math object>"
            ],
            "text/latex": "$\\displaystyle - \\frac{9 x^{2}}{2} + 3 x + 1$"
          },
          "metadata": {}
        },
        {
          "output_type": "stream",
          "name": "stdout",
          "text": [
            "Iteración 3:\n",
            "  Valor teórico: -0.848872488540578\n",
            "  Valor experimental: -0.500000000000000\n",
            "  Error absoluto: 0.348872488540578\n",
            "  Error relativo: 0.410983384725280\n",
            "\n"
          ]
        },
        {
          "output_type": "display_data",
          "data": {
            "text/plain": [
              "<IPython.core.display.Math object>"
            ],
            "text/latex": "$\\displaystyle - \\frac{9 x^{3}}{2} - \\frac{9 x^{2}}{2} + 3 x + 1$"
          },
          "metadata": {}
        },
        {
          "output_type": "stream",
          "name": "stdout",
          "text": [
            "Iteración 4:\n",
            "  Valor teórico: -0.848872488540578\n",
            "  Valor experimental: -5.00000000000000\n",
            "  Error absoluto: 4.15112751145942\n",
            "  Error relativo: 4.89016615274720\n",
            "\n"
          ]
        },
        {
          "output_type": "display_data",
          "data": {
            "text/plain": [
              "<IPython.core.display.Math object>"
            ],
            "text/latex": "$\\displaystyle \\frac{27 x^{4}}{8} - \\frac{9 x^{3}}{2} - \\frac{9 x^{2}}{2} + 3 x + 1$"
          },
          "metadata": {}
        },
        {
          "output_type": "stream",
          "name": "stdout",
          "text": [
            "Iteración 5:\n",
            "  Valor teórico: -0.848872488540578\n",
            "  Valor experimental: -1.62500000000000\n",
            "  Error absoluto: 0.776127511459422\n",
            "  Error relativo: 0.914303999642840\n",
            "\n"
          ]
        },
        {
          "output_type": "display_data",
          "data": {
            "text/plain": [
              "<IPython.core.display.Math object>"
            ],
            "text/latex": "$\\displaystyle \\frac{81 x^{5}}{40} + \\frac{27 x^{4}}{8} - \\frac{9 x^{3}}{2} - \\frac{9 x^{2}}{2} + 3 x + 1$"
          },
          "metadata": {}
        },
        {
          "output_type": "stream",
          "name": "stdout",
          "text": [
            "Iteración 6:\n",
            "  Valor teórico: -0.848872488540578\n",
            "  Valor experimental: 0.400000000000000\n",
            "  Error absoluto: 1.24887248854058\n",
            "  Error relativo: 1.47121329221978\n",
            "\n"
          ]
        },
        {
          "output_type": "display_data",
          "data": {
            "text/plain": [
              "<IPython.core.display.Math object>"
            ],
            "text/latex": "$\\displaystyle - \\frac{81 x^{6}}{80} + \\frac{81 x^{5}}{40} + \\frac{27 x^{4}}{8} - \\frac{9 x^{3}}{2} - \\frac{9 x^{2}}{2} + 3 x + 1$"
          },
          "metadata": {}
        },
        {
          "output_type": "stream",
          "name": "stdout",
          "text": [
            "Iteración 7:\n",
            "  Valor teórico: -0.848872488540578\n",
            "  Valor experimental: -0.612500000000000\n",
            "  Error absoluto: 0.236372488540578\n",
            "  Error relativo: 0.278454646288468\n",
            "\n"
          ]
        },
        {
          "output_type": "display_data",
          "data": {
            "text/plain": [
              "<IPython.core.display.Math object>"
            ],
            "text/latex": "$\\displaystyle - \\frac{243 x^{7}}{560} - \\frac{81 x^{6}}{80} + \\frac{81 x^{5}}{40} + \\frac{27 x^{4}}{8} - \\frac{9 x^{3}}{2} - \\frac{9 x^{2}}{2} + 3 x + 1$"
          },
          "metadata": {}
        },
        {
          "output_type": "stream",
          "name": "stdout",
          "text": [
            "Iteración 8:\n",
            "  Valor teórico: -0.848872488540578\n",
            "  Valor experimental: -1.04642857142857\n",
            "  Error absoluto: 0.197556082887993\n",
            "  Error relativo: 0.232727630539236\n",
            "\n"
          ]
        },
        {
          "output_type": "display_data",
          "data": {
            "text/plain": [
              "<IPython.core.display.Math object>"
            ],
            "text/latex": "$\\displaystyle \\frac{729 x^{8}}{4480} - \\frac{243 x^{7}}{560} - \\frac{81 x^{6}}{80} + \\frac{81 x^{5}}{40} + \\frac{27 x^{4}}{8} - \\frac{9 x^{3}}{2} - \\frac{9 x^{2}}{2} + 3 x + 1$"
          },
          "metadata": {}
        },
        {
          "output_type": "stream",
          "name": "stdout",
          "text": [
            "Iteración 9:\n",
            "  Valor teórico: -0.848872488540578\n",
            "  Valor experimental: -0.883705357142857\n",
            "  Error absoluto: 0.0348328686022789\n",
            "  Error relativo: 0.0410342767288467\n",
            "\n"
          ]
        },
        {
          "output_type": "display_data",
          "data": {
            "text/plain": [
              "<IPython.core.display.Math object>"
            ],
            "text/latex": "$\\displaystyle \\frac{243 x^{9}}{4480} + \\frac{729 x^{8}}{4480} - \\frac{243 x^{7}}{560} - \\frac{81 x^{6}}{80} + \\frac{81 x^{5}}{40} + \\frac{27 x^{4}}{8} - \\frac{9 x^{3}}{2} - \\frac{9 x^{2}}{2} + 3 x + 1$"
          },
          "metadata": {}
        },
        {
          "output_type": "stream",
          "name": "stdout",
          "text": [
            "Iteración 10:\n",
            "  Valor teórico: -0.848872488540578\n",
            "  Valor experimental: -0.829464285714286\n",
            "  Error absoluto: 0.0194082028262925\n",
            "  Error relativo: 0.0228635078746162\n",
            "\n"
          ]
        },
        {
          "output_type": "display_data",
          "data": {
            "text/plain": [
              "<IPython.core.display.Math object>"
            ],
            "text/latex": "$\\displaystyle - \\frac{729 x^{10}}{44800} + \\frac{243 x^{9}}{4480} + \\frac{729 x^{8}}{4480} - \\frac{243 x^{7}}{560} - \\frac{81 x^{6}}{80} + \\frac{81 x^{5}}{40} + \\frac{27 x^{4}}{8} - \\frac{9 x^{3}}{2} - \\frac{9 x^{2}}{2} + 3 x + 1$"
          },
          "metadata": {}
        },
        {
          "output_type": "stream",
          "name": "stdout",
          "text": [
            "Iteración 11:\n",
            "  Valor teórico: -0.848872488540578\n",
            "  Valor experimental: -0.845736607142857\n",
            "  Error absoluto: 0.00313588139772114\n",
            "  Error relativo: 0.00369417249357733\n",
            "\n"
          ]
        },
        {
          "output_type": "display_data",
          "data": {
            "text/plain": [
              "<IPython.core.display.Math object>"
            ],
            "text/latex": "$\\displaystyle - \\frac{2187 x^{11}}{492800} - \\frac{729 x^{10}}{44800} + \\frac{243 x^{9}}{4480} + \\frac{729 x^{8}}{4480} - \\frac{243 x^{7}}{560} - \\frac{81 x^{6}}{80} + \\frac{81 x^{5}}{40} + \\frac{27 x^{4}}{8} - \\frac{9 x^{3}}{2} - \\frac{9 x^{2}}{2} + 3 x + 1$"
          },
          "metadata": {}
        },
        {
          "output_type": "stream",
          "name": "stdout",
          "text": [
            "Iteración 12:\n",
            "  Valor teórico: -0.848872488540578\n",
            "  Valor experimental: -0.850174512987013\n",
            "  Error absoluto: 0.00130202444643468\n",
            "  Error relativo: 0.00153382806488779\n",
            "\n"
          ]
        },
        {
          "output_type": "display_data",
          "data": {
            "text/plain": [
              "<IPython.core.display.Math object>"
            ],
            "text/latex": "$\\displaystyle \\frac{2187 x^{12}}{1971200} - \\frac{2187 x^{11}}{492800} - \\frac{729 x^{10}}{44800} + \\frac{243 x^{9}}{4480} + \\frac{729 x^{8}}{4480} - \\frac{243 x^{7}}{560} - \\frac{81 x^{6}}{80} + \\frac{81 x^{5}}{40} + \\frac{27 x^{4}}{8} - \\frac{9 x^{3}}{2} - \\frac{9 x^{2}}{2} + 3 x + 1$"
          },
          "metadata": {}
        },
        {
          "output_type": "stream",
          "name": "stdout",
          "text": [
            "Iteración 13:\n",
            "  Valor teórico: -0.848872488540578\n",
            "  Valor experimental: -0.849065036525974\n",
            "  Error absoluto: 0.000192547985395697\n",
            "  Error relativo: 0.000226827925271479\n",
            "\n"
          ]
        },
        {
          "output_type": "display_data",
          "data": {
            "text/plain": [
              "<IPython.core.display.Math object>"
            ],
            "text/latex": "$\\displaystyle \\frac{6561 x^{13}}{25625600} + \\frac{2187 x^{12}}{1971200} - \\frac{2187 x^{11}}{492800} - \\frac{729 x^{10}}{44800} + \\frac{243 x^{9}}{4480} + \\frac{729 x^{8}}{4480} - \\frac{243 x^{7}}{560} - \\frac{81 x^{6}}{80} + \\frac{81 x^{5}}{40} + \\frac{27 x^{4}}{8} - \\frac{9 x^{3}}{2} - \\frac{9 x^{2}}{2} + 3 x + 1$"
          },
          "metadata": {}
        },
        {
          "output_type": "stream",
          "name": "stdout",
          "text": [
            "Iteración 14:\n",
            "  Valor teórico: -0.848872488540578\n",
            "  Valor experimental: -0.848809003496503\n",
            "  Error absoluto: 0.0000634850440748291\n",
            "  Error relativo: 0.0000747874915630446\n",
            "\n"
          ]
        },
        {
          "output_type": "display_data",
          "data": {
            "text/plain": [
              "<IPython.core.display.Math object>"
            ],
            "text/latex": "$\\displaystyle - \\frac{19683 x^{14}}{358758400} + \\frac{6561 x^{13}}{25625600} + \\frac{2187 x^{12}}{1971200} - \\frac{2187 x^{11}}{492800} - \\frac{729 x^{10}}{44800} + \\frac{243 x^{9}}{4480} + \\frac{729 x^{8}}{4480} - \\frac{243 x^{7}}{560} - \\frac{81 x^{6}}{80} + \\frac{81 x^{5}}{40} + \\frac{27 x^{4}}{8} - \\frac{9 x^{3}}{2} - \\frac{9 x^{2}}{2} + 3 x + 1$"
          },
          "metadata": {}
        },
        {
          "output_type": "stream",
          "name": "stdout",
          "text": [
            "Iteración 15:\n",
            "  Valor teórico: -0.848872488540578\n",
            "  Valor experimental: -0.848863867717104\n",
            "  Error absoluto: 0.00000862082347397042\n",
            "  Error relativo: 0.0000101556165270378\n",
            "\n"
          ]
        }
      ],
      "source": [
        "x = sp.symbols('x')\n",
        "f = sp.cos(3*x) + sp.sin(3*x)\n",
        "x0 = 0\n",
        "lst = []\n",
        "errores = []\n",
        "\n",
        "tol = 1e-5\n",
        "i = 2\n",
        "p = sp.series(expr=f, x=x, x0=x0, n=1).removeO()\n",
        "p_eval = p.subs(x, 1).evalf()\n",
        "f_eval = f.subs(x, 1).evalf()\n",
        "valor_teorico = f_eval\n",
        "\n",
        "valor_experimental = p_eval\n",
        "\n",
        "error_absoluto = abs(valor_teorico - valor_experimental)\n",
        "error_relativo = error_absoluto / abs(valor_teorico)\n",
        "\n",
        "print(f\"Iteración {0}:\")\n",
        "print(f\"  Valor teórico: {valor_teorico}\")\n",
        "print(f\"  Valor experimental: {valor_experimental}\")\n",
        "print(f\"  Error absoluto: {error_absoluto}\")\n",
        "print(f\"  Error relativo: {error_relativo}\\n\")\n",
        "\n",
        "\n",
        "\n",
        "while np.abs(float(f_eval - p_eval)) > tol:\n",
        "    errores.append(np.abs(float(f_eval - p_eval)))\n",
        "    p = sp.series(expr=f, x=x, x0=x0, n=i).removeO()\n",
        "    p_eval = p.subs(x, 1).evalf()\n",
        "    display(Math(sp.latex(p)))\n",
        "    lst.append(p)\n",
        "    i += 1\n",
        "\n",
        "    valor_experimental = p_eval\n",
        "\n",
        "    error_absoluto = abs(valor_teorico - valor_experimental)\n",
        "    error_relativo = error_absoluto / abs(valor_teorico)\n",
        "\n",
        "    print(f\"Iteración {i-1}:\")\n",
        "    print(f\"  Valor teórico: {valor_teorico}\")\n",
        "    print(f\"  Valor experimental: {valor_experimental}\")\n",
        "    print(f\"  Error absoluto: {error_absoluto}\")\n",
        "    print(f\"  Error relativo: {error_relativo}\\n\")"
      ]
    },
    {
      "cell_type": "code",
      "source": [
        "errores"
      ],
      "metadata": {
        "colab": {
          "base_uri": "https://localhost:8080/"
        },
        "id": "HwC6IsDubZZN",
        "outputId": "7972867e-ea6c-46a4-c8ca-a044cdaf8a59"
      },
      "execution_count": 57,
      "outputs": [
        {
          "output_type": "execute_result",
          "data": {
            "text/plain": [
              "[1.8488724885405783,\n",
              " 4.848872488540579,\n",
              " 0.3488724885405783,\n",
              " 4.151127511459421,\n",
              " 0.7761275114594217,\n",
              " 1.2488724885405782,\n",
              " 0.23637248854057824,\n",
              " 0.1975560828879932,\n",
              " 0.034832868602278855,\n",
              " 0.01940820282629252,\n",
              " 0.003135881397721141,\n",
              " 0.0013020244464346797,\n",
              " 0.00019254798539569684,\n",
              " 6.348504407482913e-05]"
            ]
          },
          "metadata": {},
          "execution_count": 57
        }
      ]
    },
    {
      "cell_type": "markdown",
      "source": [
        "# Punto 2"
      ],
      "metadata": {
        "id": "87Nv_O7i1gsb"
      }
    },
    {
      "cell_type": "markdown",
      "source": [
        "Utilice el método de bisección para obtener una raiz de:\n",
        "\n",
        "$f(x)=-5+csc(e^{\\sqrt{1+x}})$ en \\[3,4\\]\n",
        "hasta que que $\\leq 10^{-3}$\n",
        "\n",
        "Mostrar en cada iteación el valor de la raiz aproximada, valor teórico, valor experimental y error relativo"
      ],
      "metadata": {
        "id": "j_e8VJYlcnfM"
      }
    },
    {
      "cell_type": "code",
      "source": [
        "def graficar(f, x_i, x_f, lista_puntos=None, num=1000):\n",
        "    \"\"\"\n",
        "    Gráfica de funciones algebraicas\n",
        "    :param f: función, previamente definida\n",
        "    :param x_i: límite inferior del intervalo\n",
        "    :param x_f: límite superior del intervalo\n",
        "    :param lista_puntos: lista de puntos a marcar en el gráfico (opcional)\n",
        "    :param num: división del intervalo\n",
        "    :return: gráfica de la función\n",
        "    \"\"\"\n",
        "    plt.style.use('seaborn')\n",
        "    x = np.linspace(x_i, x_f, num)\n",
        "    fig, ax = plt.subplots(figsize=(15, 5))\n",
        "    ax.plot(x, f(x))\n",
        "\n",
        "    if lista_puntos is not None:\n",
        "        for punto in lista_puntos:\n",
        "            plt.plot(punto[0], punto[1], 'ro')\n",
        "\n",
        "    xmin, xmax = ax.get_xlim()\n",
        "    ymin, ymax = ax.get_ylim()\n",
        "    ax.annotate(\"\", xy=(xmax, 0), xytext=(xmin, 0), arrowprops=dict(color='gray', width=1.5, headwidth=8, headlength=10))\n",
        "    ax.annotate(\"\", xy=(0, ymax), xytext=(0, ymin), arrowprops=dict(color='gray', width=1.5, headwidth=8, headlength=10))\n",
        "\n",
        "    plt.show()"
      ],
      "metadata": {
        "id": "oq7GhwwM2vh0"
      },
      "execution_count": 58,
      "outputs": []
    },
    {
      "cell_type": "code",
      "source": [
        "def metodo_biseccion(f, a, b, tol=1e-6, n=500):\n",
        "    \"\"\"\n",
        "    Método de bisección\n",
        "    :param f: Funcion a la que se le intenta encontrar una solucion para la ecuacion f(x)=0, previamente definida\n",
        "    :param a: límite inferior\n",
        "    :param b: límite superior\n",
        "    :param tol: toleracia, criterio de parada\n",
        "    :param n: número máximo de iteraciones, criterio de parada\n",
        "    :return: lista de puntos hallados por iteración\n",
        "    \"\"\"\n",
        "    puntos = []\n",
        "\n",
        "    if f(a) * f(b) >= 0:  # el intervalo escogido no sirve\n",
        "        print(\"Error: f(a) y f(b) deben tener signos opuestos.\")\n",
        "        return None\n",
        "\n",
        "    k = 0\n",
        "    while k <= n and (b-a)/2>tol:\n",
        "        c = (a + b) / 2  # punto medio\n",
        "        fc = f(c)\n",
        "\n",
        "        # Valor teórico (aproximado) y experimental\n",
        "        valor_teorico = c\n",
        "        valor_experimental = (a + b) / 2\n",
        "\n",
        "        # Cálculo del error absoluto y relativo\n",
        "        error_absoluto = abs(valor_teorico - valor_experimental)\n",
        "        error_relativo = error_absoluto / abs(valor_teorico)\n",
        "\n",
        "        # Valor de cada variable por iteración\n",
        "        print('Iteración {:<2}: a_{:<2}={:.7f}, b_{:<2}={:.7f}, c_{:<2}={:.7f}, '\n",
        "              'Valor teórico={:.7f}, Valor experimental={:.7f}, Error absoluto={:.7f}, Error relativo={:.7f}'.format(\n",
        "              k, k-1, a, k-1, b, k, c, valor_teorico, valor_experimental, error_absoluto, error_relativo))\n",
        "\n",
        "        puntos.append((c, fc))\n",
        "\n",
        "        if fc * f(a)< 0:\n",
        "            b = c\n",
        "        else:\n",
        "            a = c\n",
        "\n",
        "        k += 1\n",
        "\n",
        "    print(\"Resultado final: raíz = {:.7f}, valor teórico = {:.7f}, valor experimental = {:.7f}, \"\n",
        "          \"error absoluto = {:.7f}, error relativo = {:.7f}\".format(c, valor_teorico, valor_experimental, error_absoluto, error_relativo))\n",
        "\n",
        "    return puntos\n"
      ],
      "metadata": {
        "id": "qxG1CoGPdW20"
      },
      "execution_count": 59,
      "outputs": []
    },
    {
      "cell_type": "code",
      "source": [
        "f = lambda x: -5 + (1 / np.sin(np.exp(np.sqrt(1 + x))))"
      ],
      "metadata": {
        "id": "5v14Ovtbdxty"
      },
      "execution_count": 60,
      "outputs": []
    },
    {
      "cell_type": "code",
      "source": [
        "y = metodo_biseccion(f, 3, 4, tol=1e-3)\n",
        "graficar(f, 3, 4, y)"
      ],
      "metadata": {
        "colab": {
          "base_uri": "https://localhost:8080/",
          "height": 639
        },
        "id": "sp1nSI5yeWEJ",
        "outputId": "6c5a090c-a08a-47fd-80a9-75c33ccfb1f9"
      },
      "execution_count": 61,
      "outputs": [
        {
          "output_type": "stream",
          "name": "stdout",
          "text": [
            "Iteración 0 : a_-1=3.0000000, b_-1=4.0000000, c_0 =3.5000000, Valor teórico=3.5000000, Valor experimental=3.5000000, Error absoluto=0.0000000, Error relativo=0.0000000\n",
            "Iteración 1 : a_0 =3.5000000, b_0 =4.0000000, c_1 =3.7500000, Valor teórico=3.7500000, Valor experimental=3.7500000, Error absoluto=0.0000000, Error relativo=0.0000000\n",
            "Iteración 2 : a_1 =3.7500000, b_1 =4.0000000, c_2 =3.8750000, Valor teórico=3.8750000, Valor experimental=3.8750000, Error absoluto=0.0000000, Error relativo=0.0000000\n",
            "Iteración 3 : a_2 =3.8750000, b_2 =4.0000000, c_3 =3.9375000, Valor teórico=3.9375000, Valor experimental=3.9375000, Error absoluto=0.0000000, Error relativo=0.0000000\n",
            "Iteración 4 : a_3 =3.8750000, b_3 =3.9375000, c_4 =3.9062500, Valor teórico=3.9062500, Valor experimental=3.9062500, Error absoluto=0.0000000, Error relativo=0.0000000\n",
            "Iteración 5 : a_4 =3.9062500, b_4 =3.9375000, c_5 =3.9218750, Valor teórico=3.9218750, Valor experimental=3.9218750, Error absoluto=0.0000000, Error relativo=0.0000000\n",
            "Iteración 6 : a_5 =3.9218750, b_5 =3.9375000, c_6 =3.9296875, Valor teórico=3.9296875, Valor experimental=3.9296875, Error absoluto=0.0000000, Error relativo=0.0000000\n",
            "Iteración 7 : a_6 =3.9296875, b_6 =3.9375000, c_7 =3.9335938, Valor teórico=3.9335938, Valor experimental=3.9335938, Error absoluto=0.0000000, Error relativo=0.0000000\n",
            "Iteración 8 : a_7 =3.9335938, b_7 =3.9375000, c_8 =3.9355469, Valor teórico=3.9355469, Valor experimental=3.9355469, Error absoluto=0.0000000, Error relativo=0.0000000\n",
            "Resultado final: raíz = 3.9355469, valor teórico = 3.9355469, valor experimental = 3.9355469, error absoluto = 0.0000000, error relativo = 0.0000000\n"
          ]
        },
        {
          "output_type": "display_data",
          "data": {
            "text/plain": [
              "<Figure size 1500x500 with 1 Axes>"
            ],
            "image/png": "[encoded data removed]"
          },
          "metadata": {}
        }
      ]
    },
    {
      "cell_type": "markdown",
      "source": [
        "# Punto 3"
      ],
      "metadata": {
        "id": "_3pHBhnL19Lk"
      }
    },
    {
      "cell_type": "markdown",
      "source": [
        "Aplicando Newton-Rapshon, obtener la raiz para\n",
        "\n",
        "$f(x)=ln\\left(\\sqrt{\\frac{x^2+1}{1+x}} \\right)$ con $tol = 10^{-7}$ y $x_0=0.3$\n",
        "\n",
        "Mostrar en cada iteración la raiz aproximada y los respectivos errrores absolutos y relativos"
      ],
      "metadata": {
        "id": "QIixLNCSiDnu"
      }
    },
    {
      "cell_type": "code",
      "source": [
        "def metodo_newton(f, z0, tol=1e-6, n=50):\n",
        "    \"\"\"\n",
        "    Método Newton Raphson\n",
        "    :param f: Funcion a la que se le intenta encontrar una solucion para la ecuacion f(x)=0, previamente definida\n",
        "    :param z0: semilla (punto inicial)\n",
        "    :param tol: tolerancia, criterio de parada\n",
        "    :param n: número máximo de iteraciones, criterio de parada\n",
        "    :return: lista de puntos hallados por iteración\n",
        "    \"\"\"\n",
        "\n",
        "    puntos = []\n",
        "\n",
        "    z1 = z0 - float((f.subs('x', z0)/f.diff().subs('x', z0)).evalf())\n",
        "    k = 0\n",
        "    while abs(z0 - z1) > tol and k <= n:\n",
        "        e_abs = abs(z1 - z0)\n",
        "        e_rel = e_abs / abs(z1) if z1 != 0 else e_abs\n",
        "\n",
        "        valor_teorico = z1\n",
        "        valor_experimental = z0\n",
        "\n",
        "\n",
        "        print('Iteración {:<2}: p_{:<2}={:.7f}, '\n",
        "              'Valor teórico={:.7f}, Valor experimental={:.7f}, '\n",
        "              'Error absoluto={:.7f}, Error relativo={:.7f}'.format(\n",
        "              k+1, k, z1, valor_teorico, valor_experimental, e_abs, e_rel))\n",
        "\n",
        "        puntos.append((z1, f.subs('x', z1)))\n",
        "\n",
        "        z0 = z1\n",
        "        z1 = z0 - float((f.subs('x', z0) / f.diff().subs('x', z0)).evalf())\n",
        "        k += 1\n",
        "\n",
        "    print(\"Resultado final: zn = {:.7f}, k = {}\".format(z1, k))\n",
        "    return puntos"
      ],
      "metadata": {
        "id": "BkgXRXw7n4Zg"
      },
      "execution_count": 62,
      "outputs": []
    },
    {
      "cell_type": "code",
      "source": [
        "f2 = sp.log(sp.sqrt((x**2 + 1) / (1 + x)))"
      ],
      "metadata": {
        "id": "w-d0pTTSoGzH"
      },
      "execution_count": 63,
      "outputs": []
    },
    {
      "cell_type": "code",
      "source": [
        "y = metodo_newton(f2, 0.3, tol=1e-7)\n",
        "print(y)"
      ],
      "metadata": {
        "colab": {
          "base_uri": "https://localhost:8080/"
        },
        "id": "OawDWQL5oYJ5",
        "outputId": "bd34298c-cc41-4dd9-e51e-25e824dbdcc5"
      },
      "execution_count": 64,
      "outputs": [
        {
          "output_type": "stream",
          "name": "stdout",
          "text": [
            "Iteración 1 : p_0 =-0.5053431, Valor teórico=-0.5053431, Valor experimental=0.3000000, Error absoluto=0.8053431, Error relativo=1.5936560\n",
            "Iteración 2 : p_1 =-0.1758688, Valor teórico=-0.1758688, Valor experimental=-0.5053431, Error absoluto=0.3294743, Error relativo=1.8734097\n",
            "Iteración 3 : p_2 =-0.0318517, Valor teórico=-0.0318517, Valor experimental=-0.1758688, Error absoluto=0.1440171, Error relativo=4.5214918\n",
            "Iteración 4 : p_3 =-0.0014068, Valor teórico=-0.0014068, Valor experimental=-0.0318517, Error absoluto=0.0304449, Error relativo=21.6414619\n",
            "Iteración 5 : p_4 =-0.0000030, Valor teórico=-0.0000030, Valor experimental=-0.0014068, Error absoluto=0.0014038, Error relativo=474.5976263\n",
            "Iteración 6 : p_5 =-0.0000000, Valor teórico=-0.0000000, Valor experimental=-0.0000030, Error absoluto=0.0000030, Error relativo=225384.5485612\n",
            "Resultado final: zn = -0.0000000, k = 6\n",
            "[(-0.505343119925366, 0.465661303778485), (-0.17586880415483186, 0.111943346078639), (-0.031851682551919475, 0.0166919991661843), (-0.0014067856004573408, 0.000704877548049578), (-2.9579323415527495e-06, 1.47897273283791e-6), (-1.3123877553090528e-11, 6.56186216472300e-12)]\n"
          ]
        }
      ]
    },
    {
      "cell_type": "code",
      "source": [
        "f2 =lambda x: np.log(np.sqrt(((x**2) + 1) / (1 + x)))\n",
        "graficar(f2, -1, 0.5, y)"
      ],
      "metadata": {
        "colab": {
          "base_uri": "https://localhost:8080/",
          "height": 445
        },
        "id": "zbJP6up10967",
        "outputId": "944ce45d-4d0a-4b70-ff31-644f7db05bd1"
      },
      "execution_count": 65,
      "outputs": [
        {
          "output_type": "display_data",
          "data": {
            "text/plain": [
              "<Figure size 1500x500 with 1 Axes>"
            ],
            "image/png": "[encoded data removed]"
          },
          "metadata": {}
        }
      ]
    },
    {
      "cell_type": "markdown",
      "source": [
        "# Punto 4"
      ],
      "metadata": {
        "id": "y_VBr9zz2Jxs"
      }
    },
    {
      "cell_type": "markdown",
      "source": [
        " $f(x)=\\left( \\frac{\\sqrt[12]{\\left|\\frac{sen\\left(\\frac{x}{3}+e^{3x} \\right)}{cos(x+ln(x^3))} \\right|}}{e^{\\left| tan(\\sqrt[3]{x}) \\right|}\\cdot e^{sen(e^{cos(x)})}} \\right)^7\\cdot cot(sen(\\sqrt{e^x}))$\n",
        "\n",
        " Muestre la grafica de la función, de tener raices, utilice cualquier método para obtener la raiz aproximada con su respectiva gráfica. Mostrar el valor experimental y el error absoluto y relativo"
      ],
      "metadata": {
        "id": "iGZzRdBVpEwq"
      }
    },
    {
      "cell_type": "code",
      "source": [
        "f3 = lambda x: (\n",
        "        (np.power(\n",
        "            np.abs(\n",
        "                np.sin(x/3 + np.exp(3*x)) / (np.cos(x + np.log(x**3)))\n",
        "            ),\n",
        "            1/12\n",
        "        ) /\n",
        "        (np.exp(np.abs(np.tan(np.cbrt(x)))) * np.exp(np.sin(np.exp(np.cos(x))))))\n",
        "    ) ** 7 * (1 / np.tan(np.sin(np.sqrt(np.exp(x)))))"
      ],
      "metadata": {
        "id": "8qNGWyWAsOhd"
      },
      "execution_count": 66,
      "outputs": []
    },
    {
      "cell_type": "code",
      "source": [
        "f3(1)"
      ],
      "metadata": {
        "colab": {
          "base_uri": "https://localhost:8080/"
        },
        "id": "ZCSL2FkNs0yt",
        "outputId": "801f97c5-6fcc-4679-9fd3-deaa8f3a79f8"
      },
      "execution_count": 67,
      "outputs": [
        {
          "output_type": "execute_result",
          "data": {
            "text/plain": [
              "1.6749484521574793e-08"
            ]
          },
          "metadata": {},
          "execution_count": 67
        }
      ]
    },
    {
      "cell_type": "code",
      "source": [
        "f4 = (\n",
        "        (sp.Pow(\n",
        "            sp.Abs(\n",
        "                sp.sin(x/3 + sp.exp(3*x)) / (sp.cos(x + sp.log(x**3)))\n",
        "            ),\n",
        "            1/12\n",
        "        ) /\n",
        "        (sp.exp(sp.Abs(sp.tan(sp.cbrt(x)))) * sp.exp(sp.sin(sp.exp(sp.cos(x))))))\n",
        "    ) ** 7 * (1 / sp.tan(sp.sin(sp.sqrt(sp.exp(x)))))"
      ],
      "metadata": {
        "id": "pz2DDWyzsRT1"
      },
      "execution_count": 68,
      "outputs": []
    },
    {
      "cell_type": "code",
      "source": [
        "f4.subs(x, 1).evalf()"
      ],
      "metadata": {
        "colab": {
          "base_uri": "https://localhost:8080/",
          "height": 37
        },
        "id": "tnXfCo74s_1m",
        "outputId": "6ffe29a7-5e74-4a69-8f3a-8a4b5f5f3e1d"
      },
      "execution_count": 69,
      "outputs": [
        {
          "output_type": "execute_result",
          "data": {
            "text/plain": [
              "1.67494845215748e-8"
            ],
            "text/latex": "$\\displaystyle 1.67494845215748 \\cdot 10^{-8}$"
          },
          "metadata": {},
          "execution_count": 69
        }
      ]
    },
    {
      "cell_type": "code",
      "source": [
        "graficar(f3, 0, 3)"
      ],
      "metadata": {
        "colab": {
          "base_uri": "https://localhost:8080/",
          "height": 445
        },
        "id": "Ppw4W6qCulTM",
        "outputId": "c6ed0c72-1d7d-48be-9a4a-0a716aca159d"
      },
      "execution_count": 70,
      "outputs": [
        {
          "output_type": "display_data",
          "data": {
            "text/plain": [
              "<Figure size 1500x500 with 1 Axes>"
            ],
            "image/png": "[encoded data removed]"
          },
          "metadata": {}
        }
      ]
    },
    {
      "cell_type": "code",
      "source": [
        "graficar(f3, 2.2890, 2.29)"
      ],
      "metadata": {
        "colab": {
          "base_uri": "https://localhost:8080/",
          "height": 479
        },
        "id": "0xPkL5xexNS4",
        "outputId": "c4ce74b8-32cb-443f-916e-a3b93fbb3069"
      },
      "execution_count": 80,
      "outputs": [
        {
          "output_type": "display_data",
          "data": {
            "text/plain": [
              "<Figure size 1500x500 with 1 Axes>"
            ],
            "image/png": "[encoded data removed]"
          },
          "metadata": {}
        }
      ]
    },
    {
      "cell_type": "code",
      "source": [
        "lst = metodo_biseccion(f3, 2.28, 2.3)"
      ],
      "metadata": {
        "colab": {
          "base_uri": "https://localhost:8080/"
        },
        "id": "tAsTzT9lvG6B",
        "outputId": "b9039428-4528-41da-a17c-5770134f987e"
      },
      "execution_count": 75,
      "outputs": [
        {
          "output_type": "stream",
          "name": "stdout",
          "text": [
            "Iteración 0 : a_-1=2.2800000, b_-1=2.3000000, c_0 =2.2900000, Valor teórico=2.2900000, Valor experimental=2.2900000, Error absoluto=0.0000000, Error relativo=0.0000000\n",
            "Iteración 1 : a_0 =2.2800000, b_0 =2.2900000, c_1 =2.2850000, Valor teórico=2.2850000, Valor experimental=2.2850000, Error absoluto=0.0000000, Error relativo=0.0000000\n",
            "Iteración 2 : a_1 =2.2850000, b_1 =2.2900000, c_2 =2.2875000, Valor teórico=2.2875000, Valor experimental=2.2875000, Error absoluto=0.0000000, Error relativo=0.0000000\n",
            "Iteración 3 : a_2 =2.2875000, b_2 =2.2900000, c_3 =2.2887500, Valor teórico=2.2887500, Valor experimental=2.2887500, Error absoluto=0.0000000, Error relativo=0.0000000\n",
            "Iteración 4 : a_3 =2.2887500, b_3 =2.2900000, c_4 =2.2893750, Valor teórico=2.2893750, Valor experimental=2.2893750, Error absoluto=0.0000000, Error relativo=0.0000000\n",
            "Iteración 5 : a_4 =2.2893750, b_4 =2.2900000, c_5 =2.2896875, Valor teórico=2.2896875, Valor experimental=2.2896875, Error absoluto=0.0000000, Error relativo=0.0000000\n",
            "Iteración 6 : a_5 =2.2893750, b_5 =2.2896875, c_6 =2.2895313, Valor teórico=2.2895313, Valor experimental=2.2895313, Error absoluto=0.0000000, Error relativo=0.0000000\n",
            "Iteración 7 : a_6 =2.2893750, b_6 =2.2895313, c_7 =2.2894531, Valor teórico=2.2894531, Valor experimental=2.2894531, Error absoluto=0.0000000, Error relativo=0.0000000\n",
            "Iteración 8 : a_7 =2.2894531, b_7 =2.2895313, c_8 =2.2894922, Valor teórico=2.2894922, Valor experimental=2.2894922, Error absoluto=0.0000000, Error relativo=0.0000000\n",
            "Iteración 9 : a_8 =2.2894531, b_8 =2.2894922, c_9 =2.2894727, Valor teórico=2.2894727, Valor experimental=2.2894727, Error absoluto=0.0000000, Error relativo=0.0000000\n",
            "Iteración 10: a_9 =2.2894531, b_9 =2.2894727, c_10=2.2894629, Valor teórico=2.2894629, Valor experimental=2.2894629, Error absoluto=0.0000000, Error relativo=0.0000000\n",
            "Iteración 11: a_10=2.2894531, b_10=2.2894629, c_11=2.2894580, Valor teórico=2.2894580, Valor experimental=2.2894580, Error absoluto=0.0000000, Error relativo=0.0000000\n",
            "Iteración 12: a_11=2.2894580, b_11=2.2894629, c_12=2.2894604, Valor teórico=2.2894604, Valor experimental=2.2894604, Error absoluto=0.0000000, Error relativo=0.0000000\n",
            "Iteración 13: a_12=2.2894580, b_12=2.2894604, c_13=2.2894592, Valor teórico=2.2894592, Valor experimental=2.2894592, Error absoluto=0.0000000, Error relativo=0.0000000\n",
            "Resultado final: raíz = 2.2894592, valor teórico = 2.2894592, valor experimental = 2.2894592, error absoluto = 0.0000000, error relativo = 0.0000000\n"
          ]
        }
      ]
    },
    {
      "cell_type": "code",
      "source": [
        "graficar(f3, 2.2890, 2.29, lst)"
      ],
      "metadata": {
        "colab": {
          "base_uri": "https://localhost:8080/",
          "height": 460
        },
        "id": "6HvlXxXYyGrv",
        "outputId": "87978f5c-9377-4aaa-a069-c463bbeeaf2f"
      },
      "execution_count": 84,
      "outputs": [
        {
          "output_type": "display_data",
          "data": {
            "text/plain": [
              "<Figure size 1500x500 with 1 Axes>"
            ],
            "image/png": "[encoded data removed]"
          },
          "metadata": {}
        }
      ]
    }
  ]
}